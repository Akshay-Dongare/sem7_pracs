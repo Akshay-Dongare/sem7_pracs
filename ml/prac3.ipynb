{
 "cells": [
  {
   "cell_type": "code",
   "execution_count": 1,
   "metadata": {},
   "outputs": [],
   "source": [
    "import numpy as np\n",
    "import matplotlib.pyplot as plt"
   ]
  },
  {
   "cell_type": "code",
   "execution_count": 2,
   "metadata": {},
   "outputs": [],
   "source": [
    "\n",
    "def f(x):\n",
    "   return x**2 - 4*x + 6\n",
    "\n",
    "def df(x):\n",
    "   return 2*x - 4\n",
    "\n",
    "def gradient_descent(initial_x, learning_rate, num_iterations):\n",
    "   x = initial_x\n",
    "   x_history = [x]\n",
    "  \n",
    "   for i in range(num_iterations):\n",
    "       gradient = df(x)\n",
    "       x = x - learning_rate * gradient\n",
    "       x_history.append(x)\n",
    "      \n",
    "   return x, x_history"
   ]
  },
  {
   "cell_type": "code",
   "execution_count": 3,
   "metadata": {},
   "outputs": [
    {
     "name": "stdout",
     "output_type": "stream",
     "text": [
      "Local minimum: 2.00\n"
     ]
    }
   ],
   "source": [
    "initial_x = 0\n",
    "learning_rate = 0.1\n",
    "num_iterations = 50\n",
    "\n",
    "x, x_history = gradient_descent(initial_x, learning_rate, num_iterations)\n",
    "\n",
    "print(\"Local minimum: {:.2f}\".format(x))"
   ]
  },
  {
   "cell_type": "code",
   "execution_count": 4,
   "metadata": {},
   "outputs": [
    {
     "data": {
      "image/png": "[encoded data removed]",
      "text/plain": [
       "<Figure size 432x288 with 1 Axes>"
      ]
     },
     "metadata": {
      "needs_background": "light"
     },
     "output_type": "display_data"
    }
   ],
   "source": [
    "# Create a range of x values to plot\n",
    "x_vals = np.linspace(-1, 5, 100)\n",
    "\n",
    "# Plot the function f(x)\n",
    "plt.plot(x_vals, f(x_vals))\n",
    "\n",
    "# Plot the values of x at each iteration\n",
    "plt.plot(x_history, f(np.array(x_history)), 'rx')\n",
    "\n",
    "# Label the axes and add a title\n",
    "plt.xlabel('x')\n",
    "plt.ylabel('f(x)')\n",
    "plt.title('Gradient Descent')\n",
    "\n",
    "# Show the plot\n",
    "plt.show()"
   ]
  }
 ],
 "metadata": {
  "kernelspec": {
   "display_name": "tensorflow",
   "language": "python",
   "name": "python3"
  },
  "language_info": {
   "codemirror_mode": {
    "name": "ipython",
    "version": 3
   },
   "file_extension": ".py",
   "mimetype": "text/x-python",
   "name": "python",
   "nbconvert_exporter": "python",
   "pygments_lexer": "ipython3",
   "version": "3.9.5"
  }
 },
 "nbformat": 4,
 "nbformat_minor": 2
}
